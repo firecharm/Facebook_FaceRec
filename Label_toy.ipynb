{
 "cells": [
  {
   "cell_type": "code",
   "execution_count": 1,
   "metadata": {},
   "outputs": [
    {
     "name": "stderr",
     "output_type": "stream",
     "text": [
      "100%|██████████| 3083/3083 [23:43<00:00,  2.16it/s]  \n"
     ]
    }
   ],
   "source": [
    "import numpy as np\n",
    "import glob, os \n",
    "import pandas as pd\n",
    "import re\n",
    "from tqdm import tqdm\n",
    "df = pd.DataFrame(columns=(\"name\",\"sub_folder\",\"file_name\",\"NOUSE\",\"Face_x\",\"Face_y\",\"Frame_width\",\"Frame_height\",\"NOUSE2\",\"NOUSE3\"))\n",
    "os.chdir(\"frame_images_DB\")\n",
    "for file in tqdm(glob.glob(\"*.txt\")):\n",
    "    f = open(file, \"r\")\n",
    "    fileContents = f.read()\n",
    "    test = fileContents.split('\\n')\n",
    "    df_temp = pd.DataFrame(columns=(\"name\",\"sub_folder\",\"file_name\",\"NOUSE\",\"Face_x\",\"Face_y\",\"Frame_width\",\"Frame_height\",\"NOUSE2\",\"NOUSE3\"))\n",
    "    try:\n",
    "        for i in range(len(test)-1):\n",
    "            df_temp.loc[i] = re.split(r'[`\\=~!@#$%^&*()+\\[\\]{};\\'\\\\:\"|<,/<>?]', test[i])    \n",
    "        df=df.append(df_temp)\n",
    "    except:\n",
    "        print(test)\n",
    "        \n",
    "        "
   ]
  },
  {
   "cell_type": "code",
   "execution_count": 10,
   "metadata": {
    "scrolled": true
   },
   "outputs": [
    {
     "data": {
      "text/html": [
       "<div>\n",
       "<style scoped>\n",
       "    .dataframe tbody tr th:only-of-type {\n",
       "        vertical-align: middle;\n",
       "    }\n",
       "\n",
       "    .dataframe tbody tr th {\n",
       "        vertical-align: top;\n",
       "    }\n",
       "\n",
       "    .dataframe thead th {\n",
       "        text-align: right;\n",
       "    }\n",
       "</style>\n",
       "<table border=\"1\" class=\"dataframe\">\n",
       "  <thead>\n",
       "    <tr style=\"text-align: right;\">\n",
       "      <th></th>\n",
       "      <th>name</th>\n",
       "      <th>sub_folder</th>\n",
       "      <th>file_name</th>\n",
       "      <th>NOUSE</th>\n",
       "      <th>Face_x</th>\n",
       "      <th>Face_y</th>\n",
       "      <th>Frame_width</th>\n",
       "      <th>Frame_height</th>\n",
       "      <th>NOUSE2</th>\n",
       "      <th>NOUSE3</th>\n",
       "    </tr>\n",
       "  </thead>\n",
       "  <tbody>\n",
       "    <tr>\n",
       "      <th>0</th>\n",
       "      <td>Hank_Aaron</td>\n",
       "      <td>5</td>\n",
       "      <td>5.55.jpg</td>\n",
       "      <td>0</td>\n",
       "      <td>177</td>\n",
       "      <td>74</td>\n",
       "      <td>43</td>\n",
       "      <td>43</td>\n",
       "      <td>0.0</td>\n",
       "      <td>1</td>\n",
       "    </tr>\n",
       "    <tr>\n",
       "      <th>1</th>\n",
       "      <td>Hank_Aaron</td>\n",
       "      <td>5</td>\n",
       "      <td>5.56.jpg</td>\n",
       "      <td>0</td>\n",
       "      <td>177</td>\n",
       "      <td>74</td>\n",
       "      <td>43</td>\n",
       "      <td>43</td>\n",
       "      <td>0.0</td>\n",
       "      <td>1</td>\n",
       "    </tr>\n",
       "    <tr>\n",
       "      <th>2</th>\n",
       "      <td>Hank_Aaron</td>\n",
       "      <td>5</td>\n",
       "      <td>5.57.jpg</td>\n",
       "      <td>0</td>\n",
       "      <td>177</td>\n",
       "      <td>74</td>\n",
       "      <td>43</td>\n",
       "      <td>43</td>\n",
       "      <td>0.0</td>\n",
       "      <td>1</td>\n",
       "    </tr>\n",
       "    <tr>\n",
       "      <th>3</th>\n",
       "      <td>Hank_Aaron</td>\n",
       "      <td>5</td>\n",
       "      <td>5.58.jpg</td>\n",
       "      <td>0</td>\n",
       "      <td>177</td>\n",
       "      <td>74</td>\n",
       "      <td>43</td>\n",
       "      <td>43</td>\n",
       "      <td>0.0</td>\n",
       "      <td>1</td>\n",
       "    </tr>\n",
       "    <tr>\n",
       "      <th>4</th>\n",
       "      <td>Hank_Aaron</td>\n",
       "      <td>5</td>\n",
       "      <td>5.59.jpg</td>\n",
       "      <td>0</td>\n",
       "      <td>177</td>\n",
       "      <td>74</td>\n",
       "      <td>45</td>\n",
       "      <td>45</td>\n",
       "      <td>0.0</td>\n",
       "      <td>1</td>\n",
       "    </tr>\n",
       "  </tbody>\n",
       "</table>\n",
       "</div>"
      ],
      "text/plain": [
       "         name sub_folder file_name NOUSE Face_x Face_y Frame_width  \\\n",
       "0  Hank_Aaron          5  5.55.jpg     0    177     74          43   \n",
       "1  Hank_Aaron          5  5.56.jpg     0    177     74          43   \n",
       "2  Hank_Aaron          5  5.57.jpg     0    177     74          43   \n",
       "3  Hank_Aaron          5  5.58.jpg     0    177     74          43   \n",
       "4  Hank_Aaron          5  5.59.jpg     0    177     74          45   \n",
       "\n",
       "  Frame_height NOUSE2 NOUSE3  \n",
       "0           43    0.0      1  \n",
       "1           43    0.0      1  \n",
       "2           43    0.0      1  \n",
       "3           43    0.0      1  \n",
       "4           45    0.0      1  "
      ]
     },
     "execution_count": 10,
     "metadata": {},
     "output_type": "execute_result"
    }
   ],
   "source": [
    "df.head(5)"
   ]
  },
  {
   "cell_type": "code",
   "execution_count": 8,
   "metadata": {},
   "outputs": [],
   "source": [
    "# df.reset_index().drop(columns=['index'])\n",
    "df.to_csv(\"labeled.csv\")"
   ]
  },
  {
   "cell_type": "code",
   "execution_count": null,
   "metadata": {},
   "outputs": [],
   "source": [
    "# f = open(\"frame_images_DB/Aaron_Eckhart.labeled_faces.txt\", \"r\")\n",
    "# fileContents = f.read()\n",
    "# test = fileContents.split('\\n')\n",
    "# df = pd.DataFrame(columns=(\"name\",\"sub_folder\",\"file_name\",\"NOUSE\",\"Face_x\",\"Face_y\",\"Frame_width\",\"Frame_height\",\"NOUSE2\",\"NOUSE3\"))\n",
    "# for i in range(len(test)-1):\n",
    "#     df.loc[i] = re.split(r'[`\\-=~!@#$%^&*()+\\[\\]{};\\'\\\\:\"|<,/<>?]', test[i])\n"
   ]
  },
  {
   "cell_type": "code",
   "execution_count": 3,
   "metadata": {},
   "outputs": [],
   "source": [
    "import pandas as pd\n",
    "df = pd.read_csv(\"labeled.csv\")"
   ]
  },
  {
   "cell_type": "code",
   "execution_count": 4,
   "metadata": {},
   "outputs": [
    {
     "data": {
      "text/html": [
       "<div>\n",
       "<style scoped>\n",
       "    .dataframe tbody tr th:only-of-type {\n",
       "        vertical-align: middle;\n",
       "    }\n",
       "\n",
       "    .dataframe tbody tr th {\n",
       "        vertical-align: top;\n",
       "    }\n",
       "\n",
       "    .dataframe thead th {\n",
       "        text-align: right;\n",
       "    }\n",
       "</style>\n",
       "<table border=\"1\" class=\"dataframe\">\n",
       "  <thead>\n",
       "    <tr style=\"text-align: right;\">\n",
       "      <th></th>\n",
       "      <th>Unnamed: 0</th>\n",
       "      <th>name</th>\n",
       "      <th>sub_folder</th>\n",
       "      <th>file_name</th>\n",
       "      <th>NOUSE</th>\n",
       "      <th>Face_x</th>\n",
       "      <th>Face_y</th>\n",
       "      <th>Frame_width</th>\n",
       "      <th>Frame_height</th>\n",
       "      <th>NOUSE2</th>\n",
       "      <th>NOUSE3</th>\n",
       "    </tr>\n",
       "  </thead>\n",
       "  <tbody>\n",
       "    <tr>\n",
       "      <th>0</th>\n",
       "      <td>0</td>\n",
       "      <td>Hank_Aaron</td>\n",
       "      <td>5</td>\n",
       "      <td>5.55.jpg</td>\n",
       "      <td>0</td>\n",
       "      <td>177</td>\n",
       "      <td>74</td>\n",
       "      <td>43</td>\n",
       "      <td>43</td>\n",
       "      <td>0.0</td>\n",
       "      <td>1</td>\n",
       "    </tr>\n",
       "    <tr>\n",
       "      <th>1</th>\n",
       "      <td>1</td>\n",
       "      <td>Hank_Aaron</td>\n",
       "      <td>5</td>\n",
       "      <td>5.56.jpg</td>\n",
       "      <td>0</td>\n",
       "      <td>177</td>\n",
       "      <td>74</td>\n",
       "      <td>43</td>\n",
       "      <td>43</td>\n",
       "      <td>0.0</td>\n",
       "      <td>1</td>\n",
       "    </tr>\n",
       "    <tr>\n",
       "      <th>2</th>\n",
       "      <td>2</td>\n",
       "      <td>Hank_Aaron</td>\n",
       "      <td>5</td>\n",
       "      <td>5.57.jpg</td>\n",
       "      <td>0</td>\n",
       "      <td>177</td>\n",
       "      <td>74</td>\n",
       "      <td>43</td>\n",
       "      <td>43</td>\n",
       "      <td>0.0</td>\n",
       "      <td>1</td>\n",
       "    </tr>\n",
       "    <tr>\n",
       "      <th>3</th>\n",
       "      <td>3</td>\n",
       "      <td>Hank_Aaron</td>\n",
       "      <td>5</td>\n",
       "      <td>5.58.jpg</td>\n",
       "      <td>0</td>\n",
       "      <td>177</td>\n",
       "      <td>74</td>\n",
       "      <td>43</td>\n",
       "      <td>43</td>\n",
       "      <td>0.0</td>\n",
       "      <td>1</td>\n",
       "    </tr>\n",
       "    <tr>\n",
       "      <th>4</th>\n",
       "      <td>4</td>\n",
       "      <td>Hank_Aaron</td>\n",
       "      <td>5</td>\n",
       "      <td>5.59.jpg</td>\n",
       "      <td>0</td>\n",
       "      <td>177</td>\n",
       "      <td>74</td>\n",
       "      <td>45</td>\n",
       "      <td>45</td>\n",
       "      <td>0.0</td>\n",
       "      <td>1</td>\n",
       "    </tr>\n",
       "  </tbody>\n",
       "</table>\n",
       "</div>"
      ],
      "text/plain": [
       "   Unnamed: 0        name  sub_folder file_name  NOUSE  Face_x  Face_y  \\\n",
       "0           0  Hank_Aaron           5  5.55.jpg      0     177      74   \n",
       "1           1  Hank_Aaron           5  5.56.jpg      0     177      74   \n",
       "2           2  Hank_Aaron           5  5.57.jpg      0     177      74   \n",
       "3           3  Hank_Aaron           5  5.58.jpg      0     177      74   \n",
       "4           4  Hank_Aaron           5  5.59.jpg      0     177      74   \n",
       "\n",
       "   Frame_width  Frame_height  NOUSE2  NOUSE3  \n",
       "0           43            43     0.0       1  \n",
       "1           43            43     0.0       1  \n",
       "2           43            43     0.0       1  \n",
       "3           43            43     0.0       1  \n",
       "4           45            45     0.0       1  "
      ]
     },
     "execution_count": 4,
     "metadata": {},
     "output_type": "execute_result"
    }
   ],
   "source": [
    "df.head(5)"
   ]
  },
  {
   "cell_type": "markdown",
   "metadata": {},
   "source": [
    "## Check out size of pre-cropped faces"
   ]
  },
  {
   "cell_type": "code",
   "execution_count": 5,
   "metadata": {},
   "outputs": [
    {
     "data": {
      "text/plain": [
       "24"
      ]
     },
     "execution_count": 5,
     "metadata": {},
     "output_type": "execute_result"
    }
   ],
   "source": [
    "df['Frame_width'].min()"
   ]
  },
  {
   "cell_type": "code",
   "execution_count": 6,
   "metadata": {},
   "outputs": [
    {
     "data": {
      "text/plain": [
       "24"
      ]
     },
     "execution_count": 6,
     "metadata": {},
     "output_type": "execute_result"
    }
   ],
   "source": [
    "df['Frame_height'].min()"
   ]
  },
  {
   "cell_type": "code",
   "execution_count": 7,
   "metadata": {},
   "outputs": [
    {
     "data": {
      "text/plain": [
       "294"
      ]
     },
     "execution_count": 7,
     "metadata": {},
     "output_type": "execute_result"
    }
   ],
   "source": [
    "df['Frame_width'].max()"
   ]
  },
  {
   "cell_type": "code",
   "execution_count": 9,
   "metadata": {},
   "outputs": [
    {
     "data": {
      "text/html": [
       "<div>\n",
       "<style scoped>\n",
       "    .dataframe tbody tr th:only-of-type {\n",
       "        vertical-align: middle;\n",
       "    }\n",
       "\n",
       "    .dataframe tbody tr th {\n",
       "        vertical-align: top;\n",
       "    }\n",
       "\n",
       "    .dataframe thead th {\n",
       "        text-align: right;\n",
       "    }\n",
       "</style>\n",
       "<table border=\"1\" class=\"dataframe\">\n",
       "  <thead>\n",
       "    <tr style=\"text-align: right;\">\n",
       "      <th></th>\n",
       "      <th>Unnamed: 0</th>\n",
       "      <th>name</th>\n",
       "      <th>sub_folder</th>\n",
       "      <th>file_name</th>\n",
       "      <th>NOUSE</th>\n",
       "      <th>Face_x</th>\n",
       "      <th>Face_y</th>\n",
       "      <th>Frame_width</th>\n",
       "      <th>Frame_height</th>\n",
       "      <th>NOUSE2</th>\n",
       "      <th>NOUSE3</th>\n",
       "    </tr>\n",
       "  </thead>\n",
       "  <tbody>\n",
       "    <tr>\n",
       "      <th>373341</th>\n",
       "      <td>0</td>\n",
       "      <td>Aaron_Eckhart</td>\n",
       "      <td>0</td>\n",
       "      <td>0.555.jpg</td>\n",
       "      <td>0</td>\n",
       "      <td>237</td>\n",
       "      <td>137</td>\n",
       "      <td>84</td>\n",
       "      <td>84</td>\n",
       "      <td>0.0</td>\n",
       "      <td>1</td>\n",
       "    </tr>\n",
       "  </tbody>\n",
       "</table>\n",
       "</div>"
      ],
      "text/plain": [
       "        Unnamed: 0           name  sub_folder  file_name  NOUSE  Face_x  \\\n",
       "373341           0  Aaron_Eckhart           0  0.555.jpg      0     237   \n",
       "\n",
       "        Face_y  Frame_width  Frame_height  NOUSE2  NOUSE3  \n",
       "373341     137           84            84     0.0       1  "
      ]
     },
     "execution_count": 9,
     "metadata": {},
     "output_type": "execute_result"
    }
   ],
   "source": [
    "df[(df['name']=='Aaron_Eckhart')&(df['file_name']==\"0.555.jpg\")]"
   ]
  },
  {
   "cell_type": "code",
   "execution_count": 10,
   "metadata": {},
   "outputs": [
    {
     "data": {
      "text/plain": [
       "(195.0, 279.0, 95.0, 179.0)"
      ]
     },
     "execution_count": 10,
     "metadata": {},
     "output_type": "execute_result"
    }
   ],
   "source": [
    "(237-84/2,237+84/2,137-84/2,137+84/2)"
   ]
  }
 ],
 "metadata": {
  "kernelspec": {
   "display_name": "Python 3",
   "language": "python",
   "name": "python3"
  },
  "language_info": {
   "codemirror_mode": {
    "name": "ipython",
    "version": 3
   },
   "file_extension": ".py",
   "mimetype": "text/x-python",
   "name": "python",
   "nbconvert_exporter": "python",
   "pygments_lexer": "ipython3",
   "version": "3.6.7"
  }
 },
 "nbformat": 4,
 "nbformat_minor": 2
}
