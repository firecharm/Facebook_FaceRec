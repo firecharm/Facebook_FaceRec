{
 "cells": [
  {
   "cell_type": "markdown",
   "metadata": {},
   "source": [
    "## Data Type\n",
    "\n",
    "Model require numpy array as input. To reduce the data size, we store numpy array as HDFS"
   ]
  },
  {
   "cell_type": "markdown",
   "metadata": {},
   "source": [
    "## Shrink the data\n",
    "\n",
    "1) 620K images in total, the least frames a person has is 48 frames. 1600 person in total\n",
    "\n",
    "2) We will Randomly Shrink the data to 48 images per person"
   ]
  },
  {
   "cell_type": "code",
   "execution_count": 30,
   "metadata": {},
   "outputs": [
    {
     "name": "stdout",
     "output_type": "stream",
     "text": [
      "591\n",
      "471\n",
      "307\n",
      "167\n",
      "51\n",
      "8\n"
     ]
    }
   ],
   "source": [
    "# How many video do each person have?\n",
    "import os\n",
    "test_list = []\n",
    "for i in next(os.walk(\"frame_images_DB\"))[1]:\n",
    "    test_list.append(len(next(os.walk(os.path.join(\"frame_images_DB/\",i)))[1]))\n",
    "    \n",
    "a = 0\n",
    "for i in range(6):\n",
    "    print(test_list.count(i+1))"
   ]
  },
  {
   "cell_type": "code",
   "execution_count": 28,
   "metadata": {},
   "outputs": [
    {
     "data": {
      "text/plain": [
       "1595"
      ]
     },
     "execution_count": 28,
     "metadata": {},
     "output_type": "execute_result"
    }
   ],
   "source": [
    "test_list.count(i+1)"
   ]
  },
  {
   "cell_type": "code",
   "execution_count": 1,
   "metadata": {},
   "outputs": [
    {
     "data": {
      "application/vnd.jupyter.widget-view+json": {
       "model_id": "de4dee8ec55546d886b030c48d356bc8",
       "version_major": 2,
       "version_minor": 0
      },
      "text/plain": [
       "HBox(children=(IntProgress(value=1, bar_style='info', max=1), HTML(value='')))"
      ]
     },
     "metadata": {},
     "output_type": "display_data"
    },
    {
     "name": "stdout",
     "output_type": "stream",
     "text": [
      "\n"
     ]
    }
   ],
   "source": [
    "import os\n",
    "from tqdm import tqdm_notebook\n",
    "label_list = []\n",
    "for root, dirs, files in tqdm_notebook(os.walk(\"frame_images_DB\")):\n",
    "    for file in files:\n",
    "        if file.endswith(\".jpg\"):\n",
    "            label_list.append(root.split('/')[1])\n",
    "#             print(root.split('/')[1])"
   ]
  },
  {
   "cell_type": "code",
   "execution_count": 2,
   "metadata": {
    "scrolled": true
   },
   "outputs": [
    {
     "data": {
      "text/plain": [
       "621126"
      ]
     },
     "execution_count": 2,
     "metadata": {},
     "output_type": "execute_result"
    }
   ],
   "source": [
    "# 620K frames\n",
    "len(label_list)"
   ]
  },
  {
   "cell_type": "code",
   "execution_count": 3,
   "metadata": {},
   "outputs": [
    {
     "data": {
      "text/plain": [
       "1595"
      ]
     },
     "execution_count": 3,
     "metadata": {},
     "output_type": "execute_result"
    }
   ],
   "source": [
    "# 1600 person\n",
    "len(set(label_list))"
   ]
  },
  {
   "cell_type": "code",
   "execution_count": 4,
   "metadata": {},
   "outputs": [
    {
     "data": {
      "text/plain": [
       "48"
      ]
     },
     "execution_count": 4,
     "metadata": {},
     "output_type": "execute_result"
    }
   ],
   "source": [
    "# least frames per person is 48\n",
    "from itertools import groupby\n",
    "min([len(list(group)) for key, group in groupby(label_list)])"
   ]
  },
  {
   "cell_type": "code",
   "execution_count": 5,
   "metadata": {
    "scrolled": true
   },
   "outputs": [
    {
     "name": "stdout",
     "output_type": "stream",
     "text": [
      "Liza_Minnelli\n",
      "Danny_Ainge\n",
      "Tanya_Holyk\n",
      "Angela_Merkel\n"
     ]
    }
   ],
   "source": [
    "# Names of those people\n",
    "for key, group in groupby(label_list):\n",
    "    if len(list(group)) == 48:\n",
    "        print(key)"
   ]
  },
  {
   "cell_type": "markdown",
   "metadata": {},
   "source": [
    "### Shrinkage"
   ]
  },
  {
   "cell_type": "code",
   "execution_count": 6,
   "metadata": {
    "scrolled": true
   },
   "outputs": [
    {
     "data": {
      "application/vnd.jupyter.widget-view+json": {
       "model_id": "e8f37cfa3d014eb4957428525c957175",
       "version_major": 2,
       "version_minor": 0
      },
      "text/plain": [
       "HBox(children=(IntProgress(value=1, bar_style='info', max=1), HTML(value='')))"
      ]
     },
     "metadata": {},
     "output_type": "display_data"
    },
    {
     "name": "stdout",
     "output_type": "stream",
     "text": [
      "\n"
     ]
    }
   ],
   "source": [
    "# list number of folders contain frames\n",
    "test_list = list(set(label_list))\n",
    "folder_set = set()\n",
    "for root, dirs, files in tqdm_notebook(os.walk(\"frame_images_DB\")):\n",
    "    for file in files:\n",
    "        if file.endswith(\".jpg\"):\n",
    "            name = root.split('/')[1]            \n",
    "            if name in test_list:\n",
    "                folder_set.add(root)\n",
    "                test_list.remove(name)"
   ]
  },
  {
   "cell_type": "code",
   "execution_count": 7,
   "metadata": {},
   "outputs": [
    {
     "data": {
      "text/plain": [
       "1595"
      ]
     },
     "execution_count": 7,
     "metadata": {},
     "output_type": "execute_result"
    }
   ],
   "source": [
    "len(folder_set)"
   ]
  },
  {
   "cell_type": "code",
   "execution_count": 8,
   "metadata": {},
   "outputs": [],
   "source": [
    "import random\n",
    "file_list = []\n",
    "for path in folder_set:\n",
    "    file = random.sample(os.listdir(path),48)\n",
    "    for i in file:\n",
    "        file_list.append(path+'/'+i)"
   ]
  },
  {
   "cell_type": "code",
   "execution_count": 9,
   "metadata": {},
   "outputs": [
    {
     "data": {
      "text/plain": [
       "76560"
      ]
     },
     "execution_count": 9,
     "metadata": {},
     "output_type": "execute_result"
    }
   ],
   "source": [
    "len(file_list)"
   ]
  },
  {
   "cell_type": "code",
   "execution_count": 10,
   "metadata": {},
   "outputs": [
    {
     "data": {
      "text/plain": [
       "'frame_images_DB/Lynne_Cheney/0/0.372.jpg'"
      ]
     },
     "execution_count": 10,
     "metadata": {},
     "output_type": "execute_result"
    }
   ],
   "source": [
    "file_list[1]"
   ]
  },
  {
   "cell_type": "markdown",
   "metadata": {},
   "source": [
    "## Data Conversion\n",
    "\n",
    "Extract X and Y from images"
   ]
  },
  {
   "cell_type": "markdown",
   "metadata": {},
   "source": [
    "tested with 240X320X3 data size, got to 942 files,\n",
    "Numpy Array size is 1.65G\n",
    "Need to Reduce Frame Size"
   ]
  },
  {
   "cell_type": "code",
   "execution_count": 12,
   "metadata": {},
   "outputs": [
    {
     "data": {
      "application/vnd.jupyter.widget-view+json": {
       "model_id": "b4660b398c404ca1a515072aabc65b05",
       "version_major": 2,
       "version_minor": 0
      },
      "text/plain": [
       "HBox(children=(IntProgress(value=0, max=76560), HTML(value='')))"
      ]
     },
     "metadata": {},
     "output_type": "display_data"
    },
    {
     "ename": "KeyboardInterrupt",
     "evalue": "",
     "output_type": "error",
     "traceback": [
      "\u001b[0;31m---------------------------------------------------------------------------\u001b[0m",
      "\u001b[0;31mKeyboardInterrupt\u001b[0m                         Traceback (most recent call last)",
      "\u001b[0;32m<ipython-input-12-a98c77a18413>\u001b[0m in \u001b[0;36m<module>\u001b[0;34m\u001b[0m\n\u001b[1;32m      7\u001b[0m     \u001b[0mx\u001b[0m \u001b[0;34m=\u001b[0m \u001b[0mimg_to_array\u001b[0m\u001b[0;34m(\u001b[0m\u001b[0mimg\u001b[0m\u001b[0;34m)\u001b[0m\u001b[0;34m\u001b[0m\u001b[0;34m\u001b[0m\u001b[0m\n\u001b[1;32m      8\u001b[0m     \u001b[0mx\u001b[0m\u001b[0;34m=\u001b[0m\u001b[0mx\u001b[0m\u001b[0;34m.\u001b[0m\u001b[0mreshape\u001b[0m\u001b[0;34m(\u001b[0m\u001b[0;36m1\u001b[0m\u001b[0;34m,\u001b[0m\u001b[0mx\u001b[0m\u001b[0;34m.\u001b[0m\u001b[0mshape\u001b[0m\u001b[0;34m[\u001b[0m\u001b[0;36m0\u001b[0m\u001b[0;34m]\u001b[0m\u001b[0;34m,\u001b[0m\u001b[0mx\u001b[0m\u001b[0;34m.\u001b[0m\u001b[0mshape\u001b[0m\u001b[0;34m[\u001b[0m\u001b[0;36m1\u001b[0m\u001b[0;34m]\u001b[0m\u001b[0;34m,\u001b[0m\u001b[0;36m3\u001b[0m\u001b[0;34m)\u001b[0m\u001b[0;34m\u001b[0m\u001b[0;34m\u001b[0m\u001b[0m\n\u001b[0;32m----> 9\u001b[0;31m     \u001b[0mImage_array\u001b[0m \u001b[0;34m=\u001b[0m \u001b[0mnp\u001b[0m\u001b[0;34m.\u001b[0m\u001b[0mvstack\u001b[0m\u001b[0;34m(\u001b[0m\u001b[0;34m(\u001b[0m\u001b[0mImage_array\u001b[0m\u001b[0;34m,\u001b[0m\u001b[0mx\u001b[0m\u001b[0;34m)\u001b[0m\u001b[0;34m)\u001b[0m\u001b[0;34m\u001b[0m\u001b[0;34m\u001b[0m\u001b[0m\n\u001b[0m\u001b[1;32m     10\u001b[0m     \u001b[0mLabel\u001b[0m\u001b[0;34m.\u001b[0m\u001b[0mappend\u001b[0m\u001b[0;34m(\u001b[0m\u001b[0mpath\u001b[0m\u001b[0;34m.\u001b[0m\u001b[0msplit\u001b[0m\u001b[0;34m(\u001b[0m\u001b[0;34m'/'\u001b[0m\u001b[0;34m)\u001b[0m\u001b[0;34m[\u001b[0m\u001b[0;36m1\u001b[0m\u001b[0;34m]\u001b[0m\u001b[0;34m)\u001b[0m\u001b[0;34m\u001b[0m\u001b[0;34m\u001b[0m\u001b[0m\n",
      "\u001b[0;32m~/.pyenv/versions/3.6.7/lib/python3.6/site-packages/numpy/core/shape_base.py\u001b[0m in \u001b[0;36mvstack\u001b[0;34m(tup)\u001b[0m\n\u001b[1;32m    232\u001b[0m \u001b[0;34m\u001b[0m\u001b[0m\n\u001b[1;32m    233\u001b[0m     \"\"\"\n\u001b[0;32m--> 234\u001b[0;31m     \u001b[0;32mreturn\u001b[0m \u001b[0m_nx\u001b[0m\u001b[0;34m.\u001b[0m\u001b[0mconcatenate\u001b[0m\u001b[0;34m(\u001b[0m\u001b[0;34m[\u001b[0m\u001b[0matleast_2d\u001b[0m\u001b[0;34m(\u001b[0m\u001b[0m_m\u001b[0m\u001b[0;34m)\u001b[0m \u001b[0;32mfor\u001b[0m \u001b[0m_m\u001b[0m \u001b[0;32min\u001b[0m \u001b[0mtup\u001b[0m\u001b[0;34m]\u001b[0m\u001b[0;34m,\u001b[0m \u001b[0;36m0\u001b[0m\u001b[0;34m)\u001b[0m\u001b[0;34m\u001b[0m\u001b[0;34m\u001b[0m\u001b[0m\n\u001b[0m\u001b[1;32m    235\u001b[0m \u001b[0;34m\u001b[0m\u001b[0m\n\u001b[1;32m    236\u001b[0m \u001b[0;32mdef\u001b[0m \u001b[0mhstack\u001b[0m\u001b[0;34m(\u001b[0m\u001b[0mtup\u001b[0m\u001b[0;34m)\u001b[0m\u001b[0;34m:\u001b[0m\u001b[0;34m\u001b[0m\u001b[0;34m\u001b[0m\u001b[0m\n",
      "\u001b[0;31mKeyboardInterrupt\u001b[0m: "
     ]
    }
   ],
   "source": [
    "from keras.preprocessing.image import img_to_array, load_img\n",
    "import numpy as np\n",
    "Image_array = np.empty((1,60,80,3))\n",
    "Label = []\n",
    "for path in tqdm_notebook(file_list):\n",
    "    img = load_img(path,target_size=(60,80,3))\n",
    "    x = img_to_array(img)\n",
    "    x=x.reshape(1,x.shape[0],x.shape[1],3)\n",
    "    Image_array = np.vstack((Image_array,x))\n",
    "    Label.append(path.split('/')[1])"
   ]
  },
  {
   "cell_type": "code",
   "execution_count": 187,
   "metadata": {},
   "outputs": [
    {
     "data": {
      "text/plain": [
       "942"
      ]
     },
     "execution_count": 187,
     "metadata": {},
     "output_type": "execute_result"
    }
   ],
   "source": [
    "len(Image_array)"
   ]
  },
  {
   "cell_type": "code",
   "execution_count": 188,
   "metadata": {
    "scrolled": true
   },
   "outputs": [
    {
     "data": {
      "text/plain": [
       "941"
      ]
     },
     "execution_count": 188,
     "metadata": {},
     "output_type": "execute_result"
    }
   ],
   "source": [
    "len(Label)"
   ]
  },
  {
   "cell_type": "code",
   "execution_count": 189,
   "metadata": {},
   "outputs": [
    {
     "data": {
      "text/plain": [
       "array([[[[  0.,   0.,   0.],\n",
       "         [  0.,   0.,   0.],\n",
       "         [  0.,   0.,   0.],\n",
       "         ...,\n",
       "         [  0.,   0.,   0.],\n",
       "         [  0.,   0.,   0.],\n",
       "         [  0.,   0.,   0.]],\n",
       "\n",
       "        [[  0.,   0.,   0.],\n",
       "         [  0.,   0.,   0.],\n",
       "         [  0.,   0.,   0.],\n",
       "         ...,\n",
       "         [  0.,   0.,   0.],\n",
       "         [  0.,   0.,   0.],\n",
       "         [  0.,   0.,   0.]],\n",
       "\n",
       "        [[  0.,   0.,   0.],\n",
       "         [  0.,   0.,   0.],\n",
       "         [  0.,   0.,   0.],\n",
       "         ...,\n",
       "         [  0.,   0.,   0.],\n",
       "         [  0.,   0.,   0.],\n",
       "         [  0.,   0.,   0.]],\n",
       "\n",
       "        ...,\n",
       "\n",
       "        [[  0.,   0.,   0.],\n",
       "         [  0.,   0.,   0.],\n",
       "         [  0.,   0.,   0.],\n",
       "         ...,\n",
       "         [  0.,   0.,   0.],\n",
       "         [  0.,   0.,   0.],\n",
       "         [  0.,   0.,   0.]],\n",
       "\n",
       "        [[  0.,   0.,   0.],\n",
       "         [  0.,   0.,   0.],\n",
       "         [  0.,   0.,   0.],\n",
       "         ...,\n",
       "         [  0.,   0.,   0.],\n",
       "         [  0.,   0.,   0.],\n",
       "         [  0.,   0.,   0.]],\n",
       "\n",
       "        [[  0.,   0.,   0.],\n",
       "         [  0.,   0.,   0.],\n",
       "         [  0.,   0.,   0.],\n",
       "         ...,\n",
       "         [  0.,   0.,   0.],\n",
       "         [  0.,   0.,   0.],\n",
       "         [  0.,   0.,   0.]]],\n",
       "\n",
       "\n",
       "       [[[110., 102.,  89.],\n",
       "         [111., 103.,  90.],\n",
       "         [112., 104.,  91.],\n",
       "         ...,\n",
       "         [ 93.,  86.,  76.],\n",
       "         [121., 114., 106.],\n",
       "         [115., 108., 102.]],\n",
       "\n",
       "        [[110., 102.,  89.],\n",
       "         [111., 103.,  90.],\n",
       "         [112., 104.,  91.],\n",
       "         ...,\n",
       "         [ 93.,  86.,  76.],\n",
       "         [121., 114., 106.],\n",
       "         [115., 108., 102.]],\n",
       "\n",
       "        [[110., 102.,  89.],\n",
       "         [111., 103.,  90.],\n",
       "         [111., 103.,  90.],\n",
       "         ...,\n",
       "         [ 94.,  87.,  77.],\n",
       "         [121., 114., 106.],\n",
       "         [116., 109., 103.]],\n",
       "\n",
       "        ...,\n",
       "\n",
       "        [[125., 112., 103.],\n",
       "         [124., 111., 102.],\n",
       "         [130., 117., 108.],\n",
       "         ...,\n",
       "         [136., 100.,  86.],\n",
       "         [139., 103.,  89.],\n",
       "         [137., 101.,  87.]],\n",
       "\n",
       "        [[124., 114., 104.],\n",
       "         [123., 113., 103.],\n",
       "         [128., 118., 108.],\n",
       "         ...,\n",
       "         [135.,  99.,  85.],\n",
       "         [139., 103.,  89.],\n",
       "         [136., 100.,  86.]],\n",
       "\n",
       "        [[124., 114., 104.],\n",
       "         [123., 113., 103.],\n",
       "         [128., 118., 108.],\n",
       "         ...,\n",
       "         [134.,  98.,  84.],\n",
       "         [139., 103.,  89.],\n",
       "         [135.,  99.,  85.]]],\n",
       "\n",
       "\n",
       "       [[[108., 101.,  91.],\n",
       "         [108., 101.,  91.],\n",
       "         [108., 101.,  91.],\n",
       "         ...,\n",
       "         [ 64.,  60.,  35.],\n",
       "         [ 64.,  59.,  39.],\n",
       "         [ 65.,  60.,  40.]],\n",
       "\n",
       "        [[108., 101.,  91.],\n",
       "         [108., 101.,  91.],\n",
       "         [108., 101.,  91.],\n",
       "         ...,\n",
       "         [ 64.,  60.,  35.],\n",
       "         [ 64.,  59.,  39.],\n",
       "         [ 65.,  60.,  40.]],\n",
       "\n",
       "        [[107., 100.,  90.],\n",
       "         [107., 100.,  90.],\n",
       "         [107., 100.,  90.],\n",
       "         ...,\n",
       "         [ 64.,  60.,  35.],\n",
       "         [ 64.,  59.,  39.],\n",
       "         [ 65.,  60.,  40.]],\n",
       "\n",
       "        ...,\n",
       "\n",
       "        [[118., 107., 101.],\n",
       "         [117., 106., 100.],\n",
       "         [117., 106., 100.],\n",
       "         ...,\n",
       "         [ 64.,  26.,  17.],\n",
       "         [ 69.,  30.,  23.],\n",
       "         [101.,  62.,  55.]],\n",
       "\n",
       "        [[118., 107., 101.],\n",
       "         [117., 106., 100.],\n",
       "         [117., 106., 100.],\n",
       "         ...,\n",
       "         [ 63.,  24.,  17.],\n",
       "         [ 68.,  29.,  22.],\n",
       "         [100.,  61.,  54.]],\n",
       "\n",
       "        [[118., 107., 101.],\n",
       "         [117., 106., 100.],\n",
       "         [118., 107., 101.],\n",
       "         ...,\n",
       "         [ 62.,  23.,  16.],\n",
       "         [ 67.,  28.,  21.],\n",
       "         [ 99.,  60.,  55.]]],\n",
       "\n",
       "\n",
       "       ...,\n",
       "\n",
       "\n",
       "       [[[ 55.,  47.,  10.],\n",
       "         [ 55.,  47.,  10.],\n",
       "         [ 55.,  47.,  10.],\n",
       "         ...,\n",
       "         [ 38.,  40.,  27.],\n",
       "         [ 40.,  42.,  29.],\n",
       "         [ 41.,  43.,  30.]],\n",
       "\n",
       "        [[ 51.,  43.,   7.],\n",
       "         [ 51.,  43.,   7.],\n",
       "         [ 50.,  42.,   6.],\n",
       "         ...,\n",
       "         [ 27.,  31.,  16.],\n",
       "         [ 29.,  33.,  18.],\n",
       "         [ 29.,  33.,  18.]],\n",
       "\n",
       "        [[ 47.,  38.,   7.],\n",
       "         [ 47.,  38.,   7.],\n",
       "         [ 46.,  37.,   6.],\n",
       "         ...,\n",
       "         [ 10.,  15.,   0.],\n",
       "         [ 11.,  16.,   0.],\n",
       "         [ 10.,  15.,   0.]],\n",
       "\n",
       "        ...,\n",
       "\n",
       "        [[102.,  89.,  54.],\n",
       "         [102.,  89.,  54.],\n",
       "         [102.,  89.,  54.],\n",
       "         ...,\n",
       "         [ 35.,  38.,  21.],\n",
       "         [ 21.,  24.,   7.],\n",
       "         [  2.,   6.,   0.]],\n",
       "\n",
       "        [[ 98.,  85.,  50.],\n",
       "         [ 98.,  85.,  50.],\n",
       "         [ 98.,  85.,  51.],\n",
       "         ...,\n",
       "         [ 23.,  26.,   9.],\n",
       "         [ 11.,  14.,   0.],\n",
       "         [  1.,   5.,   0.]],\n",
       "\n",
       "        [[ 67.,  54.,  19.],\n",
       "         [ 67.,  54.,  19.],\n",
       "         [ 67.,  54.,  19.],\n",
       "         ...,\n",
       "         [  9.,  12.,   0.],\n",
       "         [  0.,   3.,   0.],\n",
       "         [  0.,   3.,   0.]]],\n",
       "\n",
       "\n",
       "       [[[ 56.,  48.,   9.],\n",
       "         [ 56.,  48.,   9.],\n",
       "         [ 56.,  48.,   9.],\n",
       "         ...,\n",
       "         [ 39.,  39.,  15.],\n",
       "         [ 41.,  41.,  15.],\n",
       "         [ 39.,  39.,  11.]],\n",
       "\n",
       "        [[ 55.,  47.,   8.],\n",
       "         [ 55.,  47.,   8.],\n",
       "         [ 55.,  47.,   8.],\n",
       "         ...,\n",
       "         [ 35.,  35.,  11.],\n",
       "         [ 36.,  36.,  10.],\n",
       "         [ 33.,  33.,   5.]],\n",
       "\n",
       "        [[ 50.,  42.,   5.],\n",
       "         [ 49.,  41.,   4.],\n",
       "         [ 49.,  41.,   4.],\n",
       "         ...,\n",
       "         [ 28.,  28.,   4.],\n",
       "         [ 29.,  29.,   3.],\n",
       "         [ 28.,  28.,   2.]],\n",
       "\n",
       "        ...,\n",
       "\n",
       "        [[102.,  94.,  58.],\n",
       "         [102.,  94.,  58.],\n",
       "         [101.,  93.,  57.],\n",
       "         ...,\n",
       "         [ 34.,  33.,  13.],\n",
       "         [ 22.,  21.,   1.],\n",
       "         [  6.,   5.,   0.]],\n",
       "\n",
       "        [[ 92.,  81.,  49.],\n",
       "         [ 92.,  81.,  49.],\n",
       "         [ 93.,  82.,  50.],\n",
       "         ...,\n",
       "         [ 28.,  27.,   7.],\n",
       "         [ 21.,  20.,   0.],\n",
       "         [  6.,   5.,   0.]],\n",
       "\n",
       "        [[ 62.,  52.,  17.],\n",
       "         [ 63.,  53.,  18.],\n",
       "         [ 63.,  53.,  18.],\n",
       "         ...,\n",
       "         [ 10.,   7.,   0.],\n",
       "         [  5.,   4.,   0.],\n",
       "         [  3.,   2.,   0.]]],\n",
       "\n",
       "\n",
       "       [[[ 50.,  47.,   6.],\n",
       "         [ 50.,  47.,   6.],\n",
       "         [ 51.,  48.,   7.],\n",
       "         ...,\n",
       "         [ 41.,  46.,  23.],\n",
       "         [ 40.,  45.,  22.],\n",
       "         [ 39.,  44.,  21.]],\n",
       "\n",
       "        [[ 47.,  43.,   5.],\n",
       "         [ 47.,  43.,   5.],\n",
       "         [ 47.,  43.,   5.],\n",
       "         ...,\n",
       "         [ 30.,  35.,  12.],\n",
       "         [ 29.,  34.,  11.],\n",
       "         [ 28.,  33.,  10.]],\n",
       "\n",
       "        [[ 44.,  40.,   5.],\n",
       "         [ 44.,  40.,   5.],\n",
       "         [ 44.,  40.,   5.],\n",
       "         ...,\n",
       "         [ 14.,  18.,   0.],\n",
       "         [ 13.,  17.,   0.],\n",
       "         [ 12.,  16.,   0.]],\n",
       "\n",
       "        ...,\n",
       "\n",
       "        [[102.,  90.,  52.],\n",
       "         [102.,  89.,  54.],\n",
       "         [102.,  89.,  54.],\n",
       "         ...,\n",
       "         [ 23.,  30.,  14.],\n",
       "         [ 14.,  21.,   5.],\n",
       "         [  0.,   5.,   0.]],\n",
       "\n",
       "        [[ 99.,  86.,  51.],\n",
       "         [ 99.,  86.,  51.],\n",
       "         [ 98.,  85.,  50.],\n",
       "         ...,\n",
       "         [ 19.,  26.,  10.],\n",
       "         [ 11.,  20.,   3.],\n",
       "         [  0.,   6.,   0.]],\n",
       "\n",
       "        [[ 69.,  56.,  21.],\n",
       "         [ 69.,  56.,  21.],\n",
       "         [ 68.,  55.,  20.],\n",
       "         ...,\n",
       "         [  0.,   7.,   0.],\n",
       "         [  0.,   5.,   0.],\n",
       "         [  0.,   5.,   0.]]]])"
      ]
     },
     "execution_count": 189,
     "metadata": {},
     "output_type": "execute_result"
    }
   ],
   "source": [
    "Image_array"
   ]
  },
  {
   "cell_type": "code",
   "execution_count": 185,
   "metadata": {},
   "outputs": [
    {
     "data": {
      "text/plain": [
       "['Lee_Baca',\n",
       " 'Lee_Baca',\n",
       " 'Lee_Baca',\n",
       " 'Lee_Baca',\n",
       " 'Lee_Baca',\n",
       " 'Lee_Baca',\n",
       " 'Lee_Baca',\n",
       " 'Lee_Baca',\n",
       " 'Lee_Baca',\n",
       " 'Lee_Baca',\n",
       " 'Lee_Baca',\n",
       " 'Lee_Baca',\n",
       " 'Lee_Baca',\n",
       " 'Lee_Baca',\n",
       " 'Lee_Baca',\n",
       " 'Lee_Baca',\n",
       " 'Lee_Baca',\n",
       " 'Lee_Baca',\n",
       " 'Lee_Baca',\n",
       " 'Lee_Baca',\n",
       " 'Lee_Baca',\n",
       " 'Lee_Baca',\n",
       " 'Lee_Baca',\n",
       " 'Lee_Baca',\n",
       " 'Lee_Baca',\n",
       " 'Lee_Baca',\n",
       " 'Lee_Baca',\n",
       " 'Lee_Baca',\n",
       " 'Lee_Baca',\n",
       " 'Lee_Baca',\n",
       " 'Lee_Baca',\n",
       " 'Lee_Baca',\n",
       " 'Lee_Baca',\n",
       " 'Lee_Baca',\n",
       " 'Lee_Baca',\n",
       " 'Lee_Baca',\n",
       " 'Lee_Baca',\n",
       " 'Lee_Baca',\n",
       " 'Lee_Baca',\n",
       " 'Lee_Baca',\n",
       " 'Lee_Baca',\n",
       " 'Lee_Baca',\n",
       " 'Lee_Baca',\n",
       " 'Lee_Baca',\n",
       " 'Lee_Baca',\n",
       " 'Lee_Baca',\n",
       " 'Lee_Baca',\n",
       " 'Lee_Baca',\n",
       " 'Katie_Smith',\n",
       " 'Katie_Smith',\n",
       " 'Katie_Smith',\n",
       " 'Katie_Smith',\n",
       " 'Katie_Smith',\n",
       " 'Katie_Smith',\n",
       " 'Katie_Smith',\n",
       " 'Katie_Smith',\n",
       " 'Katie_Smith',\n",
       " 'Katie_Smith',\n",
       " 'Katie_Smith',\n",
       " 'Katie_Smith',\n",
       " 'Katie_Smith',\n",
       " 'Katie_Smith',\n",
       " 'Katie_Smith',\n",
       " 'Katie_Smith',\n",
       " 'Katie_Smith',\n",
       " 'Katie_Smith',\n",
       " 'Katie_Smith',\n",
       " 'Katie_Smith',\n",
       " 'Katie_Smith',\n",
       " 'Katie_Smith',\n",
       " 'Katie_Smith',\n",
       " 'Katie_Smith',\n",
       " 'Katie_Smith',\n",
       " 'Katie_Smith',\n",
       " 'Katie_Smith',\n",
       " 'Katie_Smith',\n",
       " 'Katie_Smith',\n",
       " 'Katie_Smith',\n",
       " 'Katie_Smith',\n",
       " 'Katie_Smith',\n",
       " 'Katie_Smith',\n",
       " 'Katie_Smith',\n",
       " 'Katie_Smith',\n",
       " 'Katie_Smith',\n",
       " 'Katie_Smith',\n",
       " 'Katie_Smith',\n",
       " 'Katie_Smith',\n",
       " 'Katie_Smith',\n",
       " 'Katie_Smith',\n",
       " 'Katie_Smith',\n",
       " 'Katie_Smith',\n",
       " 'Katie_Smith',\n",
       " 'Katie_Smith',\n",
       " 'Katie_Smith',\n",
       " 'Katie_Smith',\n",
       " 'Katie_Smith',\n",
       " 'Brendan_Stai',\n",
       " 'Brendan_Stai',\n",
       " 'Brendan_Stai',\n",
       " 'Brendan_Stai',\n",
       " 'Brendan_Stai',\n",
       " 'Brendan_Stai',\n",
       " 'Brendan_Stai',\n",
       " 'Brendan_Stai',\n",
       " 'Brendan_Stai',\n",
       " 'Brendan_Stai',\n",
       " 'Brendan_Stai',\n",
       " 'Brendan_Stai',\n",
       " 'Brendan_Stai',\n",
       " 'Brendan_Stai',\n",
       " 'Brendan_Stai',\n",
       " 'Brendan_Stai',\n",
       " 'Brendan_Stai',\n",
       " 'Brendan_Stai',\n",
       " 'Brendan_Stai',\n",
       " 'Brendan_Stai',\n",
       " 'Brendan_Stai',\n",
       " 'Brendan_Stai',\n",
       " 'Brendan_Stai',\n",
       " 'Brendan_Stai',\n",
       " 'Brendan_Stai',\n",
       " 'Brendan_Stai',\n",
       " 'Brendan_Stai',\n",
       " 'Brendan_Stai',\n",
       " 'Brendan_Stai',\n",
       " 'Brendan_Stai',\n",
       " 'Brendan_Stai',\n",
       " 'Brendan_Stai',\n",
       " 'Brendan_Stai',\n",
       " 'Brendan_Stai',\n",
       " 'Brendan_Stai',\n",
       " 'Brendan_Stai',\n",
       " 'Brendan_Stai',\n",
       " 'Brendan_Stai',\n",
       " 'Brendan_Stai',\n",
       " 'Brendan_Stai',\n",
       " 'Brendan_Stai',\n",
       " 'Brendan_Stai',\n",
       " 'Brendan_Stai',\n",
       " 'Brendan_Stai',\n",
       " 'Brendan_Stai',\n",
       " 'Brendan_Stai',\n",
       " 'Brendan_Stai',\n",
       " 'Brendan_Stai',\n",
       " 'Tia_Mowry',\n",
       " 'Tia_Mowry',\n",
       " 'Tia_Mowry',\n",
       " 'Tia_Mowry',\n",
       " 'Tia_Mowry',\n",
       " 'Tia_Mowry',\n",
       " 'Tia_Mowry',\n",
       " 'Tia_Mowry',\n",
       " 'Tia_Mowry',\n",
       " 'Tia_Mowry',\n",
       " 'Tia_Mowry',\n",
       " 'Tia_Mowry',\n",
       " 'Tia_Mowry',\n",
       " 'Tia_Mowry',\n",
       " 'Tia_Mowry',\n",
       " 'Tia_Mowry',\n",
       " 'Tia_Mowry',\n",
       " 'Tia_Mowry',\n",
       " 'Tia_Mowry',\n",
       " 'Tia_Mowry',\n",
       " 'Tia_Mowry',\n",
       " 'Tia_Mowry',\n",
       " 'Tia_Mowry',\n",
       " 'Tia_Mowry',\n",
       " 'Tia_Mowry',\n",
       " 'Tia_Mowry',\n",
       " 'Tia_Mowry',\n",
       " 'Tia_Mowry',\n",
       " 'Tia_Mowry',\n",
       " 'Tia_Mowry',\n",
       " 'Tia_Mowry',\n",
       " 'Tia_Mowry',\n",
       " 'Tia_Mowry',\n",
       " 'Tia_Mowry',\n",
       " 'Tia_Mowry',\n",
       " 'Tia_Mowry',\n",
       " 'Tia_Mowry',\n",
       " 'Tia_Mowry',\n",
       " 'Tia_Mowry',\n",
       " 'Tia_Mowry',\n",
       " 'Tia_Mowry',\n",
       " 'Tia_Mowry',\n",
       " 'Tia_Mowry',\n",
       " 'Tia_Mowry',\n",
       " 'Tia_Mowry',\n",
       " 'Tia_Mowry',\n",
       " 'Tia_Mowry',\n",
       " 'Tia_Mowry',\n",
       " 'Dai_Bachtiar',\n",
       " 'Dai_Bachtiar',\n",
       " 'Dai_Bachtiar',\n",
       " 'Dai_Bachtiar',\n",
       " 'Dai_Bachtiar',\n",
       " 'Dai_Bachtiar',\n",
       " 'Dai_Bachtiar',\n",
       " 'Dai_Bachtiar',\n",
       " 'Dai_Bachtiar',\n",
       " 'Dai_Bachtiar',\n",
       " 'Dai_Bachtiar',\n",
       " 'Dai_Bachtiar',\n",
       " 'Dai_Bachtiar',\n",
       " 'Dai_Bachtiar',\n",
       " 'Dai_Bachtiar',\n",
       " 'Dai_Bachtiar',\n",
       " 'Dai_Bachtiar',\n",
       " 'Dai_Bachtiar',\n",
       " 'Dai_Bachtiar',\n",
       " 'Dai_Bachtiar',\n",
       " 'Dai_Bachtiar',\n",
       " 'Dai_Bachtiar',\n",
       " 'Dai_Bachtiar',\n",
       " 'Dai_Bachtiar',\n",
       " 'Dai_Bachtiar',\n",
       " 'Dai_Bachtiar',\n",
       " 'Dai_Bachtiar',\n",
       " 'Dai_Bachtiar',\n",
       " 'Dai_Bachtiar',\n",
       " 'Dai_Bachtiar',\n",
       " 'Dai_Bachtiar',\n",
       " 'Dai_Bachtiar',\n",
       " 'Dai_Bachtiar',\n",
       " 'Dai_Bachtiar',\n",
       " 'Dai_Bachtiar',\n",
       " 'Dai_Bachtiar',\n",
       " 'Dai_Bachtiar',\n",
       " 'Dai_Bachtiar',\n",
       " 'Dai_Bachtiar',\n",
       " 'Dai_Bachtiar',\n",
       " 'Dai_Bachtiar',\n",
       " 'Dai_Bachtiar',\n",
       " 'Dai_Bachtiar',\n",
       " 'Dai_Bachtiar',\n",
       " 'Dai_Bachtiar',\n",
       " 'Dai_Bachtiar',\n",
       " 'Dai_Bachtiar',\n",
       " 'Dai_Bachtiar',\n",
       " 'Saparmurat_Niyazov',\n",
       " 'Saparmurat_Niyazov',\n",
       " 'Saparmurat_Niyazov',\n",
       " 'Saparmurat_Niyazov',\n",
       " 'Saparmurat_Niyazov',\n",
       " 'Saparmurat_Niyazov',\n",
       " 'Saparmurat_Niyazov',\n",
       " 'Saparmurat_Niyazov',\n",
       " 'Saparmurat_Niyazov',\n",
       " 'Saparmurat_Niyazov',\n",
       " 'Saparmurat_Niyazov',\n",
       " 'Saparmurat_Niyazov',\n",
       " 'Saparmurat_Niyazov',\n",
       " 'Saparmurat_Niyazov',\n",
       " 'Saparmurat_Niyazov',\n",
       " 'Saparmurat_Niyazov',\n",
       " 'Saparmurat_Niyazov',\n",
       " 'Saparmurat_Niyazov',\n",
       " 'Saparmurat_Niyazov',\n",
       " 'Saparmurat_Niyazov',\n",
       " 'Saparmurat_Niyazov',\n",
       " 'Saparmurat_Niyazov',\n",
       " 'Saparmurat_Niyazov',\n",
       " 'Saparmurat_Niyazov',\n",
       " 'Saparmurat_Niyazov',\n",
       " 'Saparmurat_Niyazov',\n",
       " 'Saparmurat_Niyazov',\n",
       " 'Saparmurat_Niyazov',\n",
       " 'Saparmurat_Niyazov',\n",
       " 'Saparmurat_Niyazov',\n",
       " 'Saparmurat_Niyazov',\n",
       " 'Saparmurat_Niyazov',\n",
       " 'Saparmurat_Niyazov',\n",
       " 'Saparmurat_Niyazov',\n",
       " 'Saparmurat_Niyazov',\n",
       " 'Saparmurat_Niyazov',\n",
       " 'Saparmurat_Niyazov',\n",
       " 'Saparmurat_Niyazov',\n",
       " 'Saparmurat_Niyazov',\n",
       " 'Saparmurat_Niyazov',\n",
       " 'Saparmurat_Niyazov',\n",
       " 'Saparmurat_Niyazov',\n",
       " 'Saparmurat_Niyazov',\n",
       " 'Saparmurat_Niyazov',\n",
       " 'Saparmurat_Niyazov',\n",
       " 'Saparmurat_Niyazov',\n",
       " 'Saparmurat_Niyazov',\n",
       " 'Saparmurat_Niyazov',\n",
       " 'Marisa_Tomei',\n",
       " 'Marisa_Tomei',\n",
       " 'Marisa_Tomei',\n",
       " 'Marisa_Tomei',\n",
       " 'Marisa_Tomei',\n",
       " 'Marisa_Tomei',\n",
       " 'Marisa_Tomei',\n",
       " 'Marisa_Tomei',\n",
       " 'Marisa_Tomei',\n",
       " 'Marisa_Tomei',\n",
       " 'Marisa_Tomei',\n",
       " 'Marisa_Tomei',\n",
       " 'Marisa_Tomei',\n",
       " 'Marisa_Tomei',\n",
       " 'Marisa_Tomei',\n",
       " 'Marisa_Tomei',\n",
       " 'Marisa_Tomei',\n",
       " 'Marisa_Tomei',\n",
       " 'Marisa_Tomei']"
      ]
     },
     "execution_count": 185,
     "metadata": {},
     "output_type": "execute_result"
    }
   ],
   "source": [
    "Label"
   ]
  },
  {
   "cell_type": "code",
   "execution_count": 89,
   "metadata": {},
   "outputs": [
    {
     "data": {
      "text/plain": [
       "(427, 240, 320, 3)"
      ]
     },
     "execution_count": 89,
     "metadata": {},
     "output_type": "execute_result"
    }
   ],
   "source": [
    "Image_array.shape"
   ]
  },
  {
   "cell_type": "code",
   "execution_count": 80,
   "metadata": {},
   "outputs": [],
   "source": [
    " arr = np.array([[1,2,3,4], [5,6,7,8], [9,10,11,12]])"
   ]
  },
  {
   "cell_type": "code",
   "execution_count": 83,
   "metadata": {},
   "outputs": [
    {
     "data": {
      "text/plain": [
       "array([[ 1,  2,  3,  4],\n",
       "       [ 5,  6,  7,  8],\n",
       "       [ 9, 10, 11, 12]])"
      ]
     },
     "execution_count": 83,
     "metadata": {},
     "output_type": "execute_result"
    }
   ],
   "source": [
    "arr"
   ]
  },
  {
   "cell_type": "code",
   "execution_count": 81,
   "metadata": {},
   "outputs": [
    {
     "data": {
      "text/plain": [
       "(3, 4)"
      ]
     },
     "execution_count": 81,
     "metadata": {},
     "output_type": "execute_result"
    }
   ],
   "source": [
    "arr.shape"
   ]
  },
  {
   "cell_type": "code",
   "execution_count": 85,
   "metadata": {},
   "outputs": [
    {
     "data": {
      "text/plain": [
       "array([[ 5,  6,  7,  8],\n",
       "       [ 9, 10, 11, 12]])"
      ]
     },
     "execution_count": 85,
     "metadata": {},
     "output_type": "execute_result"
    }
   ],
   "source": [
    "np.delete(arr, 0,0)"
   ]
  },
  {
   "cell_type": "code",
   "execution_count": 190,
   "metadata": {},
   "outputs": [
    {
     "data": {
      "image/png": "[encoded data removed]",
      "text/plain": [
       "<PIL.Image.Image image mode=RGB size=320x240 at 0x2E722E6A0>"
      ]
     },
     "execution_count": 190,
     "metadata": {},
     "output_type": "execute_result"
    }
   ],
   "source": [
    "from keras.preprocessing.image import array_to_img\n",
    "img_test = array_to_img(Image_array[1])\n",
    "img_test"
   ]
  },
  {
   "cell_type": "code",
   "execution_count": 61,
   "metadata": {
    "scrolled": true
   },
   "outputs": [
    {
     "name": "stdout",
     "output_type": "stream",
     "text": [
      "_________________________________________________________________\n",
      "Layer (type)                 Output Shape              Param #   \n",
      "=================================================================\n",
      "conv2d_9 (Conv2D)            (None, 238, 318, 32)      896       \n",
      "_________________________________________________________________\n",
      "conv2d_10 (Conv2D)           (None, 236, 316, 64)      18496     \n",
      "_________________________________________________________________\n",
      "max_pooling2d_5 (MaxPooling2 (None, 118, 158, 64)      0         \n",
      "_________________________________________________________________\n",
      "dropout_9 (Dropout)          (None, 118, 158, 64)      0         \n",
      "_________________________________________________________________\n",
      "flatten_5 (Flatten)          (None, 1193216)           0         \n",
      "_________________________________________________________________\n",
      "dense_9 (Dense)              (None, 128)               152731776 \n",
      "_________________________________________________________________\n",
      "dropout_10 (Dropout)         (None, 128)               0         \n",
      "_________________________________________________________________\n",
      "dense_10 (Dense)             (None, 2)                 258       \n",
      "=================================================================\n",
      "Total params: 152,751,426\n",
      "Trainable params: 152,751,426\n",
      "Non-trainable params: 0\n",
      "_________________________________________________________________\n",
      "Epoch 1/12\n",
      " - 67s - loss: 6.3625 - acc: 0.5556\n",
      "Epoch 2/12\n"
     ]
    },
    {
     "ename": "KeyboardInterrupt",
     "evalue": "",
     "output_type": "error",
     "traceback": [
      "\u001b[0;31m---------------------------------------------------------------------------\u001b[0m",
      "\u001b[0;31mKeyboardInterrupt\u001b[0m                         Traceback (most recent call last)",
      "\u001b[0;32m<ipython-input-61-a3af870105f5>\u001b[0m in \u001b[0;36m<module>\u001b[0;34m\u001b[0m\n\u001b[1;32m     41\u001b[0m                      \u001b[0mbatch_size\u001b[0m \u001b[0;34m=\u001b[0m \u001b[0mbatch_size\u001b[0m\u001b[0;34m,\u001b[0m\u001b[0;34m\u001b[0m\u001b[0;34m\u001b[0m\u001b[0m\n\u001b[1;32m     42\u001b[0m                      \u001b[0mepochs\u001b[0m \u001b[0;34m=\u001b[0m \u001b[0mepochs\u001b[0m\u001b[0;34m,\u001b[0m\u001b[0;34m\u001b[0m\u001b[0;34m\u001b[0m\u001b[0m\n\u001b[0;32m---> 43\u001b[0;31m                      \u001b[0mverbose\u001b[0m \u001b[0;34m=\u001b[0m \u001b[0;36m2\u001b[0m\u001b[0;34m\u001b[0m\u001b[0;34m\u001b[0m\u001b[0m\n\u001b[0m\u001b[1;32m     44\u001b[0m                      )\n\u001b[1;32m     45\u001b[0m \u001b[0;34m\u001b[0m\u001b[0m\n",
      "\u001b[0;32m~/.pyenv/versions/3.6.7/lib/python3.6/site-packages/keras/engine/training.py\u001b[0m in \u001b[0;36mfit\u001b[0;34m(self, x, y, batch_size, epochs, verbose, callbacks, validation_split, validation_data, shuffle, class_weight, sample_weight, initial_epoch, steps_per_epoch, validation_steps, **kwargs)\u001b[0m\n\u001b[1;32m   1037\u001b[0m                                         \u001b[0minitial_epoch\u001b[0m\u001b[0;34m=\u001b[0m\u001b[0minitial_epoch\u001b[0m\u001b[0;34m,\u001b[0m\u001b[0;34m\u001b[0m\u001b[0;34m\u001b[0m\u001b[0m\n\u001b[1;32m   1038\u001b[0m                                         \u001b[0msteps_per_epoch\u001b[0m\u001b[0;34m=\u001b[0m\u001b[0msteps_per_epoch\u001b[0m\u001b[0;34m,\u001b[0m\u001b[0;34m\u001b[0m\u001b[0;34m\u001b[0m\u001b[0m\n\u001b[0;32m-> 1039\u001b[0;31m                                         validation_steps=validation_steps)\n\u001b[0m\u001b[1;32m   1040\u001b[0m \u001b[0;34m\u001b[0m\u001b[0m\n\u001b[1;32m   1041\u001b[0m     def evaluate(self, x=None, y=None,\n",
      "\u001b[0;32m~/.pyenv/versions/3.6.7/lib/python3.6/site-packages/keras/engine/training_arrays.py\u001b[0m in \u001b[0;36mfit_loop\u001b[0;34m(model, f, ins, out_labels, batch_size, epochs, verbose, callbacks, val_f, val_ins, shuffle, callback_metrics, initial_epoch, steps_per_epoch, validation_steps)\u001b[0m\n\u001b[1;32m    197\u001b[0m                     \u001b[0mins_batch\u001b[0m\u001b[0;34m[\u001b[0m\u001b[0mi\u001b[0m\u001b[0;34m]\u001b[0m \u001b[0;34m=\u001b[0m \u001b[0mins_batch\u001b[0m\u001b[0;34m[\u001b[0m\u001b[0mi\u001b[0m\u001b[0;34m]\u001b[0m\u001b[0;34m.\u001b[0m\u001b[0mtoarray\u001b[0m\u001b[0;34m(\u001b[0m\u001b[0;34m)\u001b[0m\u001b[0;34m\u001b[0m\u001b[0;34m\u001b[0m\u001b[0m\n\u001b[1;32m    198\u001b[0m \u001b[0;34m\u001b[0m\u001b[0m\n\u001b[0;32m--> 199\u001b[0;31m                 \u001b[0mouts\u001b[0m \u001b[0;34m=\u001b[0m \u001b[0mf\u001b[0m\u001b[0;34m(\u001b[0m\u001b[0mins_batch\u001b[0m\u001b[0;34m)\u001b[0m\u001b[0;34m\u001b[0m\u001b[0;34m\u001b[0m\u001b[0m\n\u001b[0m\u001b[1;32m    200\u001b[0m                 \u001b[0mouts\u001b[0m \u001b[0;34m=\u001b[0m \u001b[0mto_list\u001b[0m\u001b[0;34m(\u001b[0m\u001b[0mouts\u001b[0m\u001b[0;34m)\u001b[0m\u001b[0;34m\u001b[0m\u001b[0;34m\u001b[0m\u001b[0m\n\u001b[1;32m    201\u001b[0m                 \u001b[0;32mfor\u001b[0m \u001b[0ml\u001b[0m\u001b[0;34m,\u001b[0m \u001b[0mo\u001b[0m \u001b[0;32min\u001b[0m \u001b[0mzip\u001b[0m\u001b[0;34m(\u001b[0m\u001b[0mout_labels\u001b[0m\u001b[0;34m,\u001b[0m \u001b[0mouts\u001b[0m\u001b[0;34m)\u001b[0m\u001b[0;34m:\u001b[0m\u001b[0;34m\u001b[0m\u001b[0;34m\u001b[0m\u001b[0m\n",
      "\u001b[0;32m~/.pyenv/versions/3.6.7/lib/python3.6/site-packages/keras/backend/tensorflow_backend.py\u001b[0m in \u001b[0;36m__call__\u001b[0;34m(self, inputs)\u001b[0m\n\u001b[1;32m   2713\u001b[0m                 \u001b[0;32mreturn\u001b[0m \u001b[0mself\u001b[0m\u001b[0;34m.\u001b[0m\u001b[0m_legacy_call\u001b[0m\u001b[0;34m(\u001b[0m\u001b[0minputs\u001b[0m\u001b[0;34m)\u001b[0m\u001b[0;34m\u001b[0m\u001b[0;34m\u001b[0m\u001b[0m\n\u001b[1;32m   2714\u001b[0m \u001b[0;34m\u001b[0m\u001b[0m\n\u001b[0;32m-> 2715\u001b[0;31m             \u001b[0;32mreturn\u001b[0m \u001b[0mself\u001b[0m\u001b[0;34m.\u001b[0m\u001b[0m_call\u001b[0m\u001b[0;34m(\u001b[0m\u001b[0minputs\u001b[0m\u001b[0;34m)\u001b[0m\u001b[0;34m\u001b[0m\u001b[0;34m\u001b[0m\u001b[0m\n\u001b[0m\u001b[1;32m   2716\u001b[0m         \u001b[0;32melse\u001b[0m\u001b[0;34m:\u001b[0m\u001b[0;34m\u001b[0m\u001b[0;34m\u001b[0m\u001b[0m\n\u001b[1;32m   2717\u001b[0m             \u001b[0;32mif\u001b[0m \u001b[0mpy_any\u001b[0m\u001b[0;34m(\u001b[0m\u001b[0mis_tensor\u001b[0m\u001b[0;34m(\u001b[0m\u001b[0mx\u001b[0m\u001b[0;34m)\u001b[0m \u001b[0;32mfor\u001b[0m \u001b[0mx\u001b[0m \u001b[0;32min\u001b[0m \u001b[0minputs\u001b[0m\u001b[0;34m)\u001b[0m\u001b[0;34m:\u001b[0m\u001b[0;34m\u001b[0m\u001b[0;34m\u001b[0m\u001b[0m\n",
      "\u001b[0;32m~/.pyenv/versions/3.6.7/lib/python3.6/site-packages/keras/backend/tensorflow_backend.py\u001b[0m in \u001b[0;36m_call\u001b[0;34m(self, inputs)\u001b[0m\n\u001b[1;32m   2673\u001b[0m             \u001b[0mfetched\u001b[0m \u001b[0;34m=\u001b[0m \u001b[0mself\u001b[0m\u001b[0;34m.\u001b[0m\u001b[0m_callable_fn\u001b[0m\u001b[0;34m(\u001b[0m\u001b[0;34m*\u001b[0m\u001b[0marray_vals\u001b[0m\u001b[0;34m,\u001b[0m \u001b[0mrun_metadata\u001b[0m\u001b[0;34m=\u001b[0m\u001b[0mself\u001b[0m\u001b[0;34m.\u001b[0m\u001b[0mrun_metadata\u001b[0m\u001b[0;34m)\u001b[0m\u001b[0;34m\u001b[0m\u001b[0;34m\u001b[0m\u001b[0m\n\u001b[1;32m   2674\u001b[0m         \u001b[0;32melse\u001b[0m\u001b[0;34m:\u001b[0m\u001b[0;34m\u001b[0m\u001b[0;34m\u001b[0m\u001b[0m\n\u001b[0;32m-> 2675\u001b[0;31m             \u001b[0mfetched\u001b[0m \u001b[0;34m=\u001b[0m \u001b[0mself\u001b[0m\u001b[0;34m.\u001b[0m\u001b[0m_callable_fn\u001b[0m\u001b[0;34m(\u001b[0m\u001b[0;34m*\u001b[0m\u001b[0marray_vals\u001b[0m\u001b[0;34m)\u001b[0m\u001b[0;34m\u001b[0m\u001b[0;34m\u001b[0m\u001b[0m\n\u001b[0m\u001b[1;32m   2676\u001b[0m         \u001b[0;32mreturn\u001b[0m \u001b[0mfetched\u001b[0m\u001b[0;34m[\u001b[0m\u001b[0;34m:\u001b[0m\u001b[0mlen\u001b[0m\u001b[0;34m(\u001b[0m\u001b[0mself\u001b[0m\u001b[0;34m.\u001b[0m\u001b[0moutputs\u001b[0m\u001b[0;34m)\u001b[0m\u001b[0;34m]\u001b[0m\u001b[0;34m\u001b[0m\u001b[0;34m\u001b[0m\u001b[0m\n\u001b[1;32m   2677\u001b[0m \u001b[0;34m\u001b[0m\u001b[0m\n",
      "\u001b[0;32m~/.pyenv/versions/3.6.7/lib/python3.6/site-packages/tensorflow/python/client/session.py\u001b[0m in \u001b[0;36m__call__\u001b[0;34m(self, *args, **kwargs)\u001b[0m\n\u001b[1;32m   1397\u001b[0m           ret = tf_session.TF_SessionRunCallable(\n\u001b[1;32m   1398\u001b[0m               \u001b[0mself\u001b[0m\u001b[0;34m.\u001b[0m\u001b[0m_session\u001b[0m\u001b[0;34m.\u001b[0m\u001b[0m_session\u001b[0m\u001b[0;34m,\u001b[0m \u001b[0mself\u001b[0m\u001b[0;34m.\u001b[0m\u001b[0m_handle\u001b[0m\u001b[0;34m,\u001b[0m \u001b[0margs\u001b[0m\u001b[0;34m,\u001b[0m \u001b[0mstatus\u001b[0m\u001b[0;34m,\u001b[0m\u001b[0;34m\u001b[0m\u001b[0;34m\u001b[0m\u001b[0m\n\u001b[0;32m-> 1399\u001b[0;31m               run_metadata_ptr)\n\u001b[0m\u001b[1;32m   1400\u001b[0m         \u001b[0;32mif\u001b[0m \u001b[0mrun_metadata\u001b[0m\u001b[0;34m:\u001b[0m\u001b[0;34m\u001b[0m\u001b[0;34m\u001b[0m\u001b[0m\n\u001b[1;32m   1401\u001b[0m           \u001b[0mproto_data\u001b[0m \u001b[0;34m=\u001b[0m \u001b[0mtf_session\u001b[0m\u001b[0;34m.\u001b[0m\u001b[0mTF_GetBuffer\u001b[0m\u001b[0;34m(\u001b[0m\u001b[0mrun_metadata_ptr\u001b[0m\u001b[0;34m)\u001b[0m\u001b[0;34m\u001b[0m\u001b[0;34m\u001b[0m\u001b[0m\n",
      "\u001b[0;31mKeyboardInterrupt\u001b[0m: "
     ]
    }
   ],
   "source": [
    "# convert labels to OHE\n",
    "from keras import utils\n",
    "from sklearn.preprocessing import LabelEncoder\n",
    "encoder = LabelEncoder()\n",
    "encoder.fit(label_list_test)\n",
    "encoded_Y = encoder.transform(label_list_test)\n",
    "# convert integers to dummy variables (i.e. one hot encoded)\n",
    "dummy_y = utils.to_categorical(encoded_Y)\n",
    "\n",
    "\n",
    "# Build NN Structure\n",
    "from keras.models import Sequential\n",
    "from keras.layers import Dense, Dropout, Flatten\n",
    "from keras.layers import Conv2D, MaxPooling2D\n",
    "from keras import optimizers\n",
    "\n",
    "batch_size = 128\n",
    "num_classes = 2\n",
    "epochs = 12\n",
    "input_shape = (240, 320, 3)\n",
    "\n",
    "model = Sequential()\n",
    "model.add(Conv2D(32, kernel_size=(3, 3),\n",
    "                 activation ='relu',\n",
    "                 input_shape =input_shape))\n",
    "model.add(Conv2D(64, (3, 3), activation='relu'))\n",
    "model.add(MaxPooling2D(pool_size=(2, 2)))\n",
    "model.add(Dropout(0.25))\n",
    "model.add(Flatten())\n",
    "model.add(Dense(128, activation='relu'))\n",
    "model.add(Dropout(0.5))\n",
    "model.add(Dense(num_classes, activation='softmax'))\n",
    "\n",
    "model.compile(loss='categorical_crossentropy',\n",
    "              optimizer=optimizers.Adadelta(),\n",
    "              metrics=['accuracy'])\n",
    "model.summary()\n",
    "\n",
    "\n",
    "history1 = model.fit(Image_array, dummy_y,\n",
    "                     batch_size = batch_size,\n",
    "                     epochs = epochs,\n",
    "                     verbose = 2\n",
    "                     )\n",
    "                     \n",
    "# test_loss,test_acc = model.evaluate(X_test,y_test)\n",
    "# print('test_acc',test_acc)\n",
    "# 98.67%"
   ]
  },
  {
   "cell_type": "code",
   "execution_count": 64,
   "metadata": {},
   "outputs": [
    {
     "data": {
      "text/plain": [
       "array([[1., 0.]], dtype=float32)"
      ]
     },
     "execution_count": 64,
     "metadata": {},
     "output_type": "execute_result"
    }
   ],
   "source": [
    "model.predict(Image_array[2].reshape(1,240, 320, 3))"
   ]
  },
  {
   "cell_type": "code",
   "execution_count": null,
   "metadata": {},
   "outputs": [],
   "source": []
  },
  {
   "cell_type": "markdown",
   "metadata": {},
   "source": [
    "### test crop"
   ]
  },
  {
   "cell_type": "code",
   "execution_count": 20,
   "metadata": {},
   "outputs": [
    {
     "data": {
      "image/png": "[encoded data removed]",
      "text/plain": [
       "<PIL.Image.Image image mode=RGB size=84x84 at 0x1244889B0>"
      ]
     },
     "execution_count": 20,
     "metadata": {},
     "output_type": "execute_result"
    }
   ],
   "source": [
    "from PIL import Image\n",
    "\n",
    "crop_rectangle = (195,95, 279,179)\n",
    "cropped_im = img.crop(crop_rectangle)\n",
    "\n",
    "cropped_im"
   ]
  }
 ],
 "metadata": {
  "kernelspec": {
   "display_name": "Python 3",
   "language": "python",
   "name": "python3"
  },
  "language_info": {
   "codemirror_mode": {
    "name": "ipython",
    "version": 3
   },
   "file_extension": ".py",
   "mimetype": "text/x-python",
   "name": "python",
   "nbconvert_exporter": "python",
   "pygments_lexer": "ipython3",
   "version": "3.6.7"
  },
  "varInspector": {
   "cols": {
    "lenName": 16,
    "lenType": 16,
    "lenVar": 40
   },
   "kernels_config": {
    "python": {
     "delete_cmd_postfix": "",
     "delete_cmd_prefix": "del ",
     "library": "var_list.py",
     "varRefreshCmd": "print(var_dic_list())"
    },
    "r": {
     "delete_cmd_postfix": ") ",
     "delete_cmd_prefix": "rm(",
     "library": "var_list.r",
     "varRefreshCmd": "cat(var_dic_list()) "
    }
   },
   "types_to_exclude": [
    "module",
    "function",
    "builtin_function_or_method",
    "instance",
    "_Feature"
   ],
   "window_display": false
  }
 },
 "nbformat": 4,
 "nbformat_minor": 2
}
